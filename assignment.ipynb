{
 "cells": [
  {
   "cell_type": "code",
   "execution_count": 2,
   "metadata": {
    "collapsed": false
   },
   "outputs": [
    {
     "name": "stdout",
     "output_type": "stream",
     "text": [
      "Enter a string: thon\n",
      "Substring\n"
     ]
    }
   ],
   "source": [
    "# 2. write a program to chek given substring is there in actual string or not? (search should be case insensitive) \n",
    "str = \"python program\"\n",
    "a = raw_input(\"Enter a string: \")\n",
    "if a in str:\n",
    "    print \"Substring\"\n",
    "else:\n",
    "    print \"Not a substring\""
   ]
  },
  {
   "cell_type": "code",
   "execution_count": 7,
   "metadata": {
    "collapsed": false
   },
   "outputs": [
    {
     "name": "stdout",
     "output_type": "stream",
     "text": [
      "Enter a string: prog\n",
      "Not a substring\n"
     ]
    }
   ],
   "source": [
    "# Assignment 2: Given substring in String (case sensitive)\n",
    "str = \"Python Programming\"\n",
    "a = raw_input(\"Enter a string: \")\n",
    "if a in str:\n",
    "    print \"Substring\"\n",
    "else:\n",
    "    print \"Not a substring\""
   ]
  },
  {
   "cell_type": "code",
   "execution_count": 2,
   "metadata": {
    "collapsed": false
   },
   "outputs": [
    {
     "name": "stdout",
     "output_type": "stream",
     "text": [
      "Enter a value: 9\n",
      "Odd Number\n"
     ]
    }
   ],
   "source": [
    "#### 3. take a number from the user and check whether even or odd\n",
    "a=input(\"Enter a value: \")\n",
    "if (a % 2) == 0:\n",
    "    print \"Even Number\"\n",
    "else:\n",
    "    print \"Odd Number\""
   ]
  },
  {
   "cell_type": "code",
   "execution_count": 4,
   "metadata": {
    "collapsed": false
   },
   "outputs": [
    {
     "name": "stdout",
     "output_type": "stream",
     "text": [
      "Enter number: 54\n",
      "(54, 'is not a prime number')\n"
     ]
    }
   ],
   "source": [
    "### 4. take a number from the user and check whether it is prime?\n",
    "n=input(\"Enter number: \")\n",
    "if n > 1:   \n",
    "   for i in range(2,n):\n",
    "       if (n % i) == 0:\n",
    "           print(n,\"is not a prime number\")\n",
    "           break\n",
    "   else:\n",
    "       print(n,\"is a prime number\")\n",
    "else:\n",
    "    print(num,\"is not a prime number\")\n"
   ]
  },
  {
   "cell_type": "code",
   "execution_count": 2,
   "metadata": {
    "collapsed": false
   },
   "outputs": [
    {
     "name": "stdout",
     "output_type": "stream",
     "text": [
      "False\n",
      "True\n"
     ]
    }
   ],
   "source": [
    "#5. take a string from the user and check contains only digits or not?\n",
    "a=\"1239kqj\"\n",
    "b=\"1267543\"\n",
    "print a.isdigit()\n",
    "print b.isdigit()"
   ]
  },
  {
   "cell_type": "code",
   "execution_count": 3,
   "metadata": {
    "collapsed": false
   },
   "outputs": [
    {
     "name": "stdout",
     "output_type": "stream",
     "text": [
      "True\n"
     ]
    }
   ],
   "source": [
    "#6. take a string from the user and check contains only  alphabets or not?\n",
    "y=\"helloworld\"\n",
    "print y.isalpha()"
   ]
  },
  {
   "cell_type": "code",
   "execution_count": 4,
   "metadata": {
    "collapsed": false
   },
   "outputs": [
    {
     "name": "stdout",
     "output_type": "stream",
     "text": [
      "True\n",
      "False\n"
     ]
    }
   ],
   "source": [
    "#8. take a string from the user and check contains only  capiatl letters or not?\n",
    "w=\"ASWEUY\"\n",
    "e=\"iururu'\"\n",
    "print w.isupper()\n",
    "print e.isupper()"
   ]
  },
  {
   "cell_type": "code",
   "execution_count": 5,
   "metadata": {
    "collapsed": false
   },
   "outputs": [
    {
     "name": "stdout",
     "output_type": "stream",
     "text": [
      "False\n",
      "True\n"
     ]
    }
   ],
   "source": [
    "#9. take a string from the user and check contains only  small letters or not?\n",
    "q=\"aWETRYpocv\"\n",
    "e=\"asiansky\"\n",
    "print q.islower()\n",
    "print e.islower()"
   ]
  },
  {
   "cell_type": "code",
   "execution_count": null,
   "metadata": {
    "collapsed": true
   },
   "outputs": [],
   "source": []
  },
  {
   "cell_type": "code",
   "execution_count": 3,
   "metadata": {
    "collapsed": false
   },
   "outputs": [
    {
     "name": "stdout",
     "output_type": "stream",
     "text": [
      "1\n",
      "3\n",
      "5\n",
      "7\n",
      "9\n",
      "11\n",
      "13\n",
      "15\n",
      "17\n",
      "19\n"
     ]
    }
   ],
   "source": [
    "#17: First 100 odd ( Tested with 10, need to increase value in while loop as per the requirement)\n",
    "i = 1\n",
    "count = 1\n",
    "while (count <= 10):\n",
    "    if i%2 !=0:\n",
    "        print i\n",
    "        count = count + 1\n",
    "    i = i+1"
   ]
  },
  {
   "cell_type": "code",
   "execution_count": null,
   "metadata": {
    "collapsed": true
   },
   "outputs": [],
   "source": []
  },
  {
   "cell_type": "code",
   "execution_count": 13,
   "metadata": {
    "collapsed": false
   },
   "outputs": [
    {
     "name": "stdout",
     "output_type": "stream",
     "text": [
      "Enter option: 4\n",
      "Quit Selected\n"
     ]
    }
   ],
   "source": [
    "###  10. Show the below menu to the user until and until user select quit and display corresponding os message\n",
    "'''\n",
    "Menu:\n",
    "1.Windows\n",
    "2.Linux\n",
    "3.Mac\n",
    "4.Quit\n",
    "'''\n",
    "\n",
    "##print \"Menu:\\n1.Windows\\n2.Linux\\n3.Mac\\n4.Quit\"\n",
    "\n",
    "s=input(\"Enter option: \")\n",
    "if(s<=3):\n",
    "    print \"Menu:\\n1.Windows\\n2.Linux\\n3.Mac\\n4.Quit\"\n",
    "\n",
    "##if s==\"1\":\n",
    "    ##print \"Menu:\\n1.Windows\\n2.Linux\\n3.Mac\\n4.Quit\"\n",
    "\n",
    "    ##print \"Windows Selected\"\n",
    "##elif s==\"2\":\n",
    "    ##print \"Menu:\\n1.Windows\\n2.Linux\\n3.Mac\\n4.Quit\"\n",
    "\n",
    "    ##print \"Linux Selected\"\n",
    "##elif s==\"3\":\n",
    "    ##print \"Menu:\\n1.Windows\\n2.Linux\\n3.Mac\\n4.Quit\"\n",
    "\n",
    "    ##print \"Mac Selected\"\n",
    "else:\n",
    "    print \"Quit Selected\""
   ]
  },
  {
   "cell_type": "code",
   "execution_count": null,
   "metadata": {
    "collapsed": false
   },
   "outputs": [
    {
     "name": "stdout",
     "output_type": "stream",
     "text": [
      "Enter total No.of Buses: 6\n",
      "Enter total no.of People: 21\n"
     ]
    }
   ],
   "source": [
    "### 16. Take the input from the user for(Total number of people, toatl number of busses, Number of seats for bus). Based on the input\n",
    "##      Deside whether there is sufficient busses or not and give solution for how many extra busses required.\n",
    "a=input(\"Enter total No.of Buses: \")\n",
    "b=raw_input(\"Enter total no.of People: \")\n",
    "c=raw_input(\"Enter total no.of Seats: \")\n",
    "if c>b:\n",
    "    print \"Sufficient Buses\"\n",
    "else:\n",
    "    print \"Insufficient Seats\"\n",
    "    while(c<=b):\n",
    "        \n",
    "        print \"Require buses\""
   ]
  },
  {
   "cell_type": "code",
   "execution_count": 8,
   "metadata": {
    "collapsed": false
   },
   "outputs": [
    {
     "name": "stdout",
     "output_type": "stream",
     "text": [
      "Guess a number: 43\n",
      "Low\n"
     ]
    }
   ],
   "source": [
    "##19. Play a number guessing game (User enters a guess, you print YES or Higher or Lower)\n",
    "a = input (\"Guess a number: \")\n",
    "if a <= 50:\n",
    "    print \"Low\"\n",
    "elif a > 50 & a <= 100:\n",
    "    print \"Hi\"\n",
    "else:\n",
    "    print \"Wrong choice\"\n"
   ]
  },
  {
   "cell_type": "code",
   "execution_count": 1,
   "metadata": {
    "collapsed": false
   },
   "outputs": [
    {
     "name": "stdout",
     "output_type": "stream",
     "text": [
      "Enter a value43\n",
      "Enter b value8\n",
      "a is not divisible by b\n"
     ]
    }
   ],
   "source": [
    "### 20. Take two numbers from the user a,b check whether a is divisible by b or not?\n",
    "a=input(\"Enter a value\")\n",
    "b=input(\"Enter b value\")\n",
    "if (a % b) == 0:\n",
    "    print \"a is divisible by b\"\n",
    "else:\n",
    "    print \"a is not divisible by b\""
   ]
  },
  {
   "cell_type": "code",
   "execution_count": 1,
   "metadata": {
    "collapsed": false
   },
   "outputs": [
    {
     "name": "stdout",
     "output_type": "stream",
     "text": [
      "Enter age: 4\n",
      "you are a toddler\n"
     ]
    }
   ],
   "source": [
    "### 21. Given an age, figure out whether someone's a baby, toddler, child, teenager, adult or old codger.\n",
    "a=input(\"Enter age: \")    \n",
    "if a<=3:\n",
    "    print \"you are a baby\"\n",
    "elif a<=7:\n",
    "    print \"you are a toddler\"\n",
    "elif a<=12:\n",
    "    print \"you are a child\"\n",
    "elif a<=17:\n",
    "    print \"you are a teenager\"\n",
    "elif a>=18:\n",
    "    print \"you are an adult or old codger\""
   ]
  },
  {
   "cell_type": "code",
   "execution_count": 4,
   "metadata": {
    "collapsed": false
   },
   "outputs": [
    {
     "name": "stdout",
     "output_type": "stream",
     "text": [
      "265334\n",
      "232169\n"
     ]
    }
   ],
   "source": [
    "22.#Find the sum of all the multiples of 3 or 5 below 1000\n",
    "nums = [3, 5]\n",
    "max = 999\n",
    "\n",
    "\n",
    "result = 0\n",
    "for num in nums:\n",
    "    for i in range(1,max):\n",
    "        if num*i < max:\n",
    "            result += num*i\n",
    "print result\n",
    "\n",
    "result = 0\n",
    "for i in range(0,max):\n",
    "    if i%3 == 0 or i%5 == 0:\n",
    "        result += i\n",
    "\n",
    "print result"
   ]
  },
  {
   "cell_type": "code",
   "execution_count": 6,
   "metadata": {
    "collapsed": false
   },
   "outputs": [
    {
     "name": "stdout",
     "output_type": "stream",
     "text": [
      "Enter number: 67\n",
      "factorial is  36471110918188685288249859096605464427167635314049524593701628500267962436943872000000000000000\n"
     ]
    }
   ],
   "source": [
    "18.#Determine the factors of a number entered by the user\n",
    "num=input(\"Enter number: \")\n",
    "factorial=1\n",
    "if num < 0:\n",
    "   print(\" factorial does not exist for negative numbers\")\n",
    "elif num == 0:\n",
    "   print(\"The factorial of 0 is 1\")\n",
    "else:\n",
    "   for i in range(1,num+1):\n",
    "       factorial = factorial*i\n",
    "   print \"factorial is \",factorial"
   ]
  },
  {
   "cell_type": "code",
   "execution_count": 4,
   "metadata": {
    "collapsed": false
   },
   "outputs": [
    {
     "name": "stdout",
     "output_type": "stream",
     "text": [
      "Enter a value:67\n",
      "Enter b value: 87\n",
      "b is big value\n"
     ]
    }
   ],
   "source": [
    "### 23. Write a program to findout big of two numbers\n",
    "a=input(\"Enter a value:\")\n",
    "b=input(\"Enter b value: \")\n",
    "if a>b:\n",
    "    print \"a is big value\"\n",
    "else:\n",
    "    print \"b is big value\""
   ]
  },
  {
   "cell_type": "code",
   "execution_count": 5,
   "metadata": {
    "collapsed": false
   },
   "outputs": [
    {
     "name": "stdout",
     "output_type": "stream",
     "text": [
      "Enter a value: 43\n",
      "Enter b value: 54\n",
      "Enter c value: 321\n",
      "c is big\n"
     ]
    }
   ],
   "source": [
    "### 24. Write a program to findout biggest number in the given numbers.\n",
    "a=input(\"Enter a value: \")\n",
    "b=input(\"Enter b value: \")\n",
    "c=input(\"Enter c value: \")\n",
    "if a>b and a>c:\n",
    "    print \"a is big\"\n",
    "elif b>a and b>c:\n",
    "    print \"b is big\"\n",
    "else:\n",
    "    print \"c is big\""
   ]
  },
  {
   "cell_type": "code",
   "execution_count": 7,
   "metadata": {
    "collapsed": false
   },
   "outputs": [
    {
     "name": "stdout",
     "output_type": "stream",
     "text": [
      "Enter numbers: 1,5,8,6,9\n",
      "1\n",
      "9\n",
      "29\n",
      "('Average of s is: ', 5.8)\n"
     ]
    }
   ],
   "source": [
    "## 27. Taake some single digit numbers from the user and findout min, maximum, sum, average\n",
    "s=input(\"Enter numbers: \")\n",
    "print min(s)\n",
    "print max(s)\n",
    "print sum(s)\n",
    "avg=sum(s,0.0)/len(s)\n",
    "print (\"Average of s is: \",avg )"
   ]
  },
  {
   "cell_type": "code",
   "execution_count": 1,
   "metadata": {
    "collapsed": false
   },
   "outputs": [
    {
     "name": "stdout",
     "output_type": "stream",
     "text": [
      "Enter List values: 21,32,43,5432\n",
      "5432\n"
     ]
    }
   ],
   "source": [
    "### Assignment 24: Biggest of given numbers\n",
    "a = []\n",
    "a = input(\"Enter List values: \")\n",
    "print max(a)"
   ]
  },
  {
   "cell_type": "code",
   "execution_count": 1,
   "metadata": {
    "collapsed": false
   },
   "outputs": [
    {
     "name": "stdout",
     "output_type": "stream",
     "text": [
      "Enter a value: 100\n",
      "000100\n",
      "Enter a value: 1000\n",
      "001000\n",
      "Enter a value: 101\n",
      "000101\n",
      "Enter a value: 000\n",
      "000000\n"
     ]
    }
   ],
   "source": [
    "### 28:assignment\n",
    "\n",
    "for i in range(1, 5):\n",
    "    a = raw_input(\"Enter a value: \")\n",
    "    print a.rjust(6, \"0\")\n",
    "    i = i + 1"
   ]
  },
  {
   "cell_type": "code",
   "execution_count": 1,
   "metadata": {
    "collapsed": false
   },
   "outputs": [
    {
     "name": "stdout",
     "output_type": "stream",
     "text": [
      "emp1,emp2,emp3,emp4\n"
     ]
    }
   ],
   "source": [
    "## 29. names =\"emp1,emp2,emp3,emp4\" iterate through the employee names.\n",
    "names=\"emp1,emp2,emp3,emp4\"\n",
    "str=names.split()\n",
    "for word in str:\n",
    "    print (word)\n"
   ]
  },
  {
   "cell_type": "code",
   "execution_count": 1,
   "metadata": {
    "collapsed": false
   },
   "outputs": [
    {
     "name": "stdout",
     "output_type": "stream",
     "text": [
      "[40, 50, 60]\n",
      "[80, 90, 20]\n"
     ]
    }
   ],
   "source": [
    "## 32. l=[10,20,30,[40,50,60],70,[80,90,20]]. Convert this list as sigle dimentiona list\n",
    "\n",
    "l=[10,20,30,[40,50,60],70,[80,90,20]]\n",
    "\n",
    "l1=l[3]\n",
    "print l1\n",
    "l2=l[5]\n",
    "print l2\n",
    "l3=l[2]\n"
   ]
  },
  {
   "cell_type": "code",
   "execution_count": 2,
   "metadata": {
    "collapsed": false
   },
   "outputs": [
    {
     "name": "stdout",
     "output_type": "stream",
     "text": [
      "('e', 1)\n",
      "('o', 2)\n",
      "('g', 2)\n",
      "('l', 1)\n"
     ]
    }
   ],
   "source": [
    "## 33. input: \"google\" print count of each character\n",
    "input=\"google\"\n",
    "l=list(input)\n",
    "s=set(l)\n",
    "for i in s:\n",
    "    print (i,input.count(i))"
   ]
  },
  {
   "cell_type": "code",
   "execution_count": 3,
   "metadata": {
    "collapsed": false
   },
   "outputs": [
    {
     "name": "stdout",
     "output_type": "stream",
     "text": [
      "('List:', ['A', 'B', 'C', 'D', 'a', 'b', 'c', 'd'])\n"
     ]
    }
   ],
   "source": [
    "## 38. l=['a','A','b','B','d','D','c','C'] sort the list properly\n",
    "l=['a','A','b','B','d','D','c','C']\n",
    "l1=l.sort();\n",
    "print (\"List:\", l)"
   ]
  },
  {
   "cell_type": "code",
   "execution_count": 4,
   "metadata": {
    "collapsed": false
   },
   "outputs": [
    {
     "name": "stdout",
     "output_type": "stream",
     "text": [
      "[1, 2, 3, 6]\n",
      "[1, 2, 3, 4, 5, 6, 8, 9]\n"
     ]
    }
   ],
   "source": [
    "## 40. WAP to find union and intersection of lists.\n",
    "a=[1,2,3,4,5,6]\n",
    "b=[2,3,6,8,9,1]\n",
    "c=list(set(a) & set(b))\n",
    "print c\n",
    "d=list(set(a) | set(b))\n",
    "print d"
   ]
  },
  {
   "cell_type": "code",
   "execution_count": 5,
   "metadata": {
    "collapsed": false
   },
   "outputs": [
    {
     "name": "stdout",
     "output_type": "stream",
     "text": [
      "set([1, 2, 3, 4])\n"
     ]
    }
   ],
   "source": [
    "## 43. Remove duplicates from the list: a=[1,2,3,2,3,4,1,,3,4]\n",
    "a=[1,2,3,2,3,4,1,3,4]\n",
    "s=set(a)\n",
    "print s"
   ]
  },
  {
   "cell_type": "code",
   "execution_count": 6,
   "metadata": {
    "collapsed": false
   },
   "outputs": [
    {
     "name": "stdout",
     "output_type": "stream",
     "text": [
      "[1, 2, 3]\n",
      "6\n"
     ]
    }
   ],
   "source": [
    "##44. l=['1','2','3'] get the sum of the list\n",
    "l=['1','2','3'] \n",
    "l1=map(int,l)\n",
    "print l1\n",
    "print sum(l1)"
   ]
  },
  {
   "cell_type": "code",
   "execution_count": 7,
   "metadata": {
    "collapsed": false
   },
   "outputs": [
    {
     "name": "stdout",
     "output_type": "stream",
     "text": [
      "36\n"
     ]
    }
   ],
   "source": [
    "## 45. l1=[1,2,3,4] l2=[5,6,7,8] sum of two lists\n",
    "l1=[1,2,3,4]\n",
    "l2=[5,6,7,8]\n",
    "print sum(l1+l2)"
   ]
  },
  {
   "cell_type": "code",
   "execution_count": 5,
   "metadata": {
    "collapsed": false
   },
   "outputs": [
    {
     "name": "stdout",
     "output_type": "stream",
     "text": [
      "[1, 2, 3, 4, 5]\n",
      "['Odd number', 'Even Number', 'Odd number', 'Even Number', 'Odd number']\n"
     ]
    }
   ],
   "source": [
    "#49: Even odd\n",
    "a = [1,2,3,4,5]\n",
    "print a\n",
    "b = []\n",
    "for i in a:\n",
    "    if (i % 2)== 0:\n",
    "        b.insert(i,\"Even Number\")\n",
    "    else:\n",
    "        b.insert(i,\"Odd number\")\n",
    "print b"
   ]
  },
  {
   "cell_type": "code",
   "execution_count": 8,
   "metadata": {
    "collapsed": false
   },
   "outputs": [
    {
     "name": "stdout",
     "output_type": "stream",
     "text": [
      "['g', 'o', 'o', 'g', 'l', 'e']\n",
      "{'g': 1}\n",
      "{'o': 1, 'g': 1}\n",
      "{'o': 2, 'g': 1}\n",
      "{'o': 2, 'g': 2}\n",
      "{'o': 2, 'g': 2, 'l': 1}\n",
      "{'e': 1, 'o': 2, 'g': 2, 'l': 1}\n"
     ]
    }
   ],
   "source": [
    "#51. input: google\n",
    "#output: {'g':2,'o':2,'l':1,'e':1} use dictionary comprehension\n",
    "\n",
    "a=\"google\"\n",
    "s=list(a)\n",
    "print s\n",
    "d={}\n",
    "for i in s:\n",
    "    if i in d:\n",
    "        d[i]=d[i]+1\n",
    "    else:\n",
    "        d[i]=1\n",
    "    print d"
   ]
  },
  {
   "cell_type": "code",
   "execution_count": 9,
   "metadata": {
    "collapsed": false
   },
   "outputs": [
    {
     "name": "stdout",
     "output_type": "stream",
     "text": [
      "[('mohan', 80), ('purnesh', 40), ('satish', 90), ('venkat', 30)]\n",
      "[('venkat', 30), ('satish', 90), ('purnesh', 40), ('mohan', 80)]\n",
      "[('mohan', 80), ('purnesh', 40), ('satish', 90), ('venkat', 30)]\n",
      "[('venkat', 30), ('satish', 90), ('purnesh', 40), ('mohan', 80)]\n",
      "[('venkat', 30), ('purnesh', 40), ('mohan', 80), ('satish', 90)]\n",
      "[('satish', 90), ('mohan', 80), ('purnesh', 40), ('venkat', 30)]\n"
     ]
    }
   ],
   "source": [
    "#53. Sort the list marks = [(\"mohan\", 80), (\"satish\", 90), (\"purnesh\", 40), (\"venkat\", 30)] acording to descending order of marks\n",
    "\n",
    "l=[(\"mohan\", 80), (\"satish\", 90), (\"purnesh\", 40), (\"venkat\", 30)]\n",
    "print sorted(l)\n",
    "print sorted(l, reverse=True)\n",
    "print sorted(l,key=lambda l:l[0])\n",
    "print sorted(l,key=lambda l:l[0],reverse=True)\n",
    "print sorted(l,key=lambda l:l[1])\n",
    "print sorted(l,key=lambda l:l[1],reverse=True)"
   ]
  },
  {
   "cell_type": "code",
   "execution_count": 10,
   "metadata": {
    "collapsed": false
   },
   "outputs": [
    {
     "name": "stdout",
     "output_type": "stream",
     "text": [
      "enter data: some data\n",
      "1\n",
      "8\n",
      "2\n"
     ]
    }
   ],
   "source": [
    "# 61. number of lines, words, characters\n",
    "string=raw_input(\"enter data: \")\n",
    "chars=words=lines = 0\n",
    "s=string.split()\n",
    "for i in s:\n",
    "        lines =1\n",
    "        words = words+len(i.split())\n",
    "        chars =chars+len(i)\n",
    "print lines\n",
    "print chars\n",
    "print words"
   ]
  },
  {
   "cell_type": "code",
   "execution_count": 2,
   "metadata": {
    "collapsed": false
   },
   "outputs": [
    {
     "name": "stdout",
     "output_type": "stream",
     "text": [
      "[9, 8, 7, 5, 4, 3, 2, 1]\n",
      "Third Max value in the list is:  7\n"
     ]
    }
   ],
   "source": [
    "### 46: Find third max value of element in a list with sorting and without sorting a list.\n",
    "l = [3,5,7,2,4,8,9,1]\n",
    "l2 = sorted(l, reverse=True)\n",
    "print l2\n",
    "print \"Third Max value in the list is: \", l2[2]"
   ]
  },
  {
   "cell_type": "code",
   "execution_count": 3,
   "metadata": {
    "collapsed": false
   },
   "outputs": [
    {
     "name": "stdout",
     "output_type": "stream",
     "text": [
      "[1, 2, 3, 4, 5, 342, 2342, 2323, 456]\n",
      "[1, 2, 3, 4, 5, 342, 2323, 456]\n",
      "Third Max value in the list:  2323\n"
     ]
    }
   ],
   "source": [
    "# without sorting\n",
    "l = [1,2,3,4,5,342,2342,2342,2323,456]\n",
    "l2 = max(l)\n",
    "l3 = l.index(l2)\n",
    "l.pop(l3)\n",
    "print l\n",
    "l4 = max(l)\n",
    "l5 = l.index(l4)\n",
    "l.pop(l5)\n",
    "print l\n",
    "l6 = max(l)\n",
    "print \"Third Max value in the list: \", l6"
   ]
  },
  {
   "cell_type": "code",
   "execution_count": null,
   "metadata": {
    "collapsed": true
   },
   "outputs": [],
   "source": []
  }
 ],
 "metadata": {
  "kernelspec": {
   "display_name": "Python 2",
   "language": "python",
   "name": "python2"
  },
  "language_info": {
   "codemirror_mode": {
    "name": "ipython",
    "version": 2
   },
   "file_extension": ".py",
   "mimetype": "text/x-python",
   "name": "python",
   "nbconvert_exporter": "python",
   "pygments_lexer": "ipython2",
   "version": "2.7.12"
  }
 },
 "nbformat": 4,
 "nbformat_minor": 2
}
